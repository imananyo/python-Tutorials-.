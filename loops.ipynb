{
 "cells": [
  {
   "cell_type": "code",
   "execution_count": 1,
   "id": "c34784f5-13bc-4d7e-8bd8-c5dc4198b446",
   "metadata": {},
   "outputs": [
    {
     "name": "stdout",
     "output_type": "stream",
     "text": [
      "1\n",
      "2\n",
      "3\n",
      "4\n",
      "5\n",
      "6\n",
      "7\n"
     ]
    }
   ],
   "source": [
    "l = [1,2,3,4,5,6,7]\n",
    "for i in l :\n",
    "    print(i)"
   ]
  },
  {
   "cell_type": "code",
   "execution_count": 2,
   "id": "5b673749-53a8-448b-b55f-a7c3e81421ef",
   "metadata": {},
   "outputs": [
    {
     "name": "stdout",
     "output_type": "stream",
     "text": [
      "2\n",
      "4\n",
      "5\n",
      "7\n",
      "9.9\n",
      "10\n"
     ]
    }
   ],
   "source": [
    "l = [1,3,4,6,8.9 ,9]\n",
    "for i in l :\n",
    "    print(i+1)\n",
    "    "
   ]
  },
  {
   "cell_type": "code",
   "execution_count": 3,
   "id": "47cd06e6-c0f7-4538-af71-b70232a4ff7e",
   "metadata": {},
   "outputs": [
    {
     "name": "stdout",
     "output_type": "stream",
     "text": [
      "2\n",
      "3\n",
      "4\n",
      "5\n",
      "6\n"
     ]
    }
   ],
   "source": [
    "l = [1 ,2 ,3 ,4,5]\n",
    "l1=[]\n",
    "for i in l :\n",
    "    print(i+1)\n",
    "    l1.append(i+1)\n",
    "    l1"
   ]
  },
  {
   "cell_type": "code",
   "execution_count": 4,
   "id": "5a813b7e-427d-43cd-a9b8-7aea3cf2f79b",
   "metadata": {},
   "outputs": [
    {
     "data": {
      "text/plain": [
       "[2, 3, 4, 5, 6]"
      ]
     },
     "execution_count": 4,
     "metadata": {},
     "output_type": "execute_result"
    }
   ],
   "source": [
    "l1"
   ]
  },
  {
   "cell_type": "code",
   "execution_count": 1,
   "id": "bd205b7a-15be-406e-a68a-e8d7ea1967ba",
   "metadata": {},
   "outputs": [
    {
     "name": "stdout",
     "output_type": "stream",
     "text": [
      "ananyo\n",
      "momo\n",
      "are\n",
      "in\n",
      "relationship\n"
     ]
    }
   ],
   "source": [
    "l2 =['ananyo' ,'momo' ,'are','in','relationship']\n",
    "l3 = []\n",
    "for i in l2 :\n",
    "    print(i)\n",
    " "
   ]
  },
  {
   "cell_type": "code",
   "execution_count": 3,
   "id": "98b1d79f-c882-408a-a133-1d8097dee6ca",
   "metadata": {},
   "outputs": [],
   "source": [
    "l2.append(i.upper())"
   ]
  },
  {
   "cell_type": "code",
   "execution_count": 4,
   "id": "986eb005-9853-41b4-8553-348e0f90f4ca",
   "metadata": {},
   "outputs": [],
   "source": [
    "l4 = ['ananyo','momo','are','relationship']"
   ]
  },
  {
   "cell_type": "code",
   "execution_count": 13,
   "id": "a5e453ee-016c-4abb-b698-1abd2cb3d580",
   "metadata": {},
   "outputs": [
    {
     "name": "stdout",
     "output_type": "stream",
     "text": [
      "ananyo\n",
      "momo\n",
      "are\n",
      "relationship\n",
      "RELATIONSHIP\n"
     ]
    }
   ],
   "source": [
    "l5=[]\n",
    "for i in l4 :\n",
    "    print(i)\n",
    "    "
   ]
  },
  {
   "cell_type": "code",
   "execution_count": 12,
   "id": "91437bee-76ff-4a67-a4d1-e607205b3ed8",
   "metadata": {},
   "outputs": [],
   "source": [
    "l5.append(i)"
   ]
  },
  {
   "cell_type": "code",
   "execution_count": 10,
   "id": "2caf34b8-044e-439b-9329-0b4497c22988",
   "metadata": {},
   "outputs": [
    {
     "data": {
      "text/plain": [
       "['RELATIONSHIP']"
      ]
     },
     "execution_count": 10,
     "metadata": {},
     "output_type": "execute_result"
    }
   ],
   "source": [
    "l5"
   ]
  },
  {
   "cell_type": "code",
   "execution_count": 14,
   "id": "12fc0872-c6f3-4916-8221-53f522068014",
   "metadata": {},
   "outputs": [],
   "source": [
    "l6 =[\"subhankar\" , 22 ,33,45.6,'lol','ananyo']"
   ]
  },
  {
   "cell_type": "code",
   "execution_count": 15,
   "id": "84b25825-4efb-495f-8fdf-d3831ef5a330",
   "metadata": {},
   "outputs": [],
   "source": [
    "l7_num = []\n",
    "l7_str = []\n",
    "for i in l6 :\n",
    "    if type(i) == int or type(i) == float :\n",
    "        l7_num.append(i)\n",
    "else :\n",
    "    l7_str.append(i)\n",
    "    "
   ]
  },
  {
   "cell_type": "code",
   "execution_count": 16,
   "id": "fc03e44c-d3d6-4570-93cd-4bcd59a21a9a",
   "metadata": {},
   "outputs": [
    {
     "data": {
      "text/plain": [
       "[22, 33, 45.6]"
      ]
     },
     "execution_count": 16,
     "metadata": {},
     "output_type": "execute_result"
    }
   ],
   "source": [
    "l7_num"
   ]
  },
  {
   "cell_type": "code",
   "execution_count": 17,
   "id": "8e7a4091-20fa-4dad-b7a2-f83fef700d27",
   "metadata": {},
   "outputs": [
    {
     "data": {
      "text/plain": [
       "['ananyo']"
      ]
     },
     "execution_count": 17,
     "metadata": {},
     "output_type": "execute_result"
    }
   ],
   "source": [
    "l7_str"
   ]
  },
  {
   "cell_type": "code",
   "execution_count": null,
   "id": "3642f4aa-0e42-43f3-ad16-ccb5343f4df4",
   "metadata": {},
   "outputs": [],
   "source": []
  }
 ],
 "metadata": {
  "kernelspec": {
   "display_name": "Python 3 (ipykernel)",
   "language": "python",
   "name": "python3"
  },
  "language_info": {
   "codemirror_mode": {
    "name": "ipython",
    "version": 3
   },
   "file_extension": ".py",
   "mimetype": "text/x-python",
   "name": "python",
   "nbconvert_exporter": "python",
   "pygments_lexer": "ipython3",
   "version": "3.10.8"
  }
 },
 "nbformat": 4,
 "nbformat_minor": 5
}
